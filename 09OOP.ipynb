{
 "cells": [
  {
   "cell_type": "code",
   "execution_count": 14,
   "metadata": {},
   "outputs": [
    {
     "name": "stdout",
     "output_type": "stream",
     "text": [
      "Laptop 12 3\n",
      "36\n",
      "9.600000000000001\n",
      "TV 3000 4\n",
      "12000\n",
      "2100.0\n"
     ]
    }
   ],
   "source": [
    "class Item:\n",
    "    pay_rate = 0.8 \n",
    "    def __init__(self,name: str,price:float,quantity=0):\n",
    "        self.name = name\n",
    "        self.price = price\n",
    "        self.quantity = quantity\n",
    "    def calculate_total_price(self):\n",
    "        return self.price * self.quantity\n",
    "    def apply_discount(self):\n",
    "        self.price = self.price * self.pay_rate\n",
    "    \n",
    "item1 = Item(\"Laptop\" ,12,3)\n",
    "item2 = Item(\"TV\",3000,4)\n",
    "item3 = Item(\"AC\",4000,5)\n",
    "\n",
    "\n",
    "print(item1.name ,item1.price ,item1.quantity)\n",
    "print(item1.calculate_total_price())\n",
    "item1.apply_discount()\n",
    "print(item1.price)\n",
    "print(item2.name ,item2.price ,item2.quantity)\n",
    "print(item2.calculate_total_price())\n",
    "# print(item3.name ,item3.price ,item3.quantity)\n",
    "# print(item3.calculate_total_price())\n",
    "# print(item1.pay_rate)\n",
    "# print(Item.__dict__) # All attributes of class level\n",
    "# print(item1.__dict__)\n",
    "item2.pay_rate = 0.7\n",
    "item2.apply_discount()\n",
    "print(item2.price)"
   ]
  },
  {
   "cell_type": "code",
   "execution_count": 1,
   "metadata": {},
   "outputs": [
    {
     "name": "stdout",
     "output_type": "stream",
     "text": [
      "[Item('Phone'), 10000 , 2, Item('Laptop'), 20000 , 1, Item('Cable'), 100 , 10, Item('Mouse'), 300 , 3, Item('Keyboard'), 75 , 6]\n",
      "Phone\n",
      "Laptop\n",
      "Cable\n",
      "Mouse\n",
      "Keyboard\n"
     ]
    }
   ],
   "source": [
    "class Item:\n",
    "    pay_rate = 0.8 \n",
    "    all = []\n",
    "    def __repr__(self):\n",
    "        return f\"Item('{self.name}'), {self.price} , {self.quantity}\"\n",
    "    def __init__(self,name: str,price:float,quantity=0):\n",
    "        # Validation\n",
    "        self.name = name\n",
    "        self.price = price\n",
    "        self.quantity = quantity\n",
    "        # Actions to execute\n",
    "        Item.all.append(self)\n",
    "    def calculate_total_price(self):\n",
    "        return self.price * self.quantity\n",
    "    def apply_discount(self):\n",
    "        self.price = self.price * self.pay_rat\n",
    "\n",
    "item1 = Item(\"Phone\",10000,2)\n",
    "item2 = Item(\"Laptop\",20000,1)\n",
    "item3 = Item(\"Cable\",100,10)\n",
    "item4 = Item(\"Mouse\",300,3)\n",
    "item5 = Item(\"Keyboard\",75,6)\n",
    "print(Item.all)\n",
    "## We can print or get all names or any detail of all instances \n",
    "for names in Item.all:\n",
    "    print(names.name)\n"
   ]
  },
  {
   "cell_type": "code",
   "execution_count": 9,
   "metadata": {},
   "outputs": [
    {
     "name": "stdout",
     "output_type": "stream",
     "text": [
      "True\n"
     ]
    }
   ],
   "source": [
    "import csv\n",
    "class Item:\n",
    "    pay_rate = 0.8 \n",
    "    all = []\n",
    "    def __repr__(self):\n",
    "        return f\"Item('{self.name}'), {self.price} , {self.quantity}\"\n",
    "    def __init__(self,name: str,price:float,quantity=0):\n",
    "        # Validation\n",
    "        assert price>= 0, f'Price{price} is not greater than or equal to zero'\n",
    "        assert quantity >=0, f'Quantity{quantity} is smaller than 0'\n",
    "        # Assignment\n",
    "        self.name = name\n",
    "        self.price = price\n",
    "        self.quantity = quantity\n",
    "        # Actions to execute\n",
    "        Item.all.append(self)\n",
    "    @classmethod\n",
    "    def instantiate_from_csv(cls):\n",
    "        with open('items.csv','r')as f:\n",
    "            reader = csv.DictReader(f)\n",
    "            items = list(reader)\n",
    "        for item in items:\n",
    "            Item(\n",
    "                name = item.get('name'),\n",
    "                price = float(item.get('price')),\n",
    "                quantity = int(item.get('quantity'))\n",
    "            )\n",
    "        # print(type(items))\n",
    "        # print(items)\n",
    "    @staticmethod\n",
    "    def is_integer(num):\n",
    "        # We will count out the floats that are point zero\n",
    "        if isinstance(num,float):\n",
    "            # Count out the floats that are point zero\n",
    "            return num.is_integer()\n",
    "        elif isinstance(num,int):\n",
    "            return True\n",
    "        else:\n",
    "            return False\n",
    "    def calculate_total_price(self):\n",
    "        return self.price * self.quantity\n",
    "    def apply_discount(self):\n",
    "        self.price = self.price * self.pay_rat\n",
    "\n",
    "print(Item.is_integer(7.0))\n",
    "# Item.instantiate_from_csv()\n",
    "# print(Item.all)"
   ]
  },
  {
   "cell_type": "code",
   "execution_count": 24,
   "metadata": {},
   "outputs": [],
   "source": [
    "import csv \n",
    "\n",
    "class Item:\n",
    "    pay_rate = 0.8 \n",
    "    all = []\n",
    "    def __repr__(self):\n",
    "        return f\"{self.__class__.__name__}('{self.name}'), {self.price} , {self.quantity}\"\n",
    "    def __init__(self,name: str,price:float,quantity=0):\n",
    "        # Validation\n",
    "        self.name = name\n",
    "        self.price = price\n",
    "        self.quantity = quantity\n",
    "        # Actions to execute\n",
    "        Item.all.append(self)\n",
    "    @classmethod\n",
    "    def instantiate_from_csv(cls):\n",
    "        with open('items.csv','r')as f:\n",
    "            reader = csv.DictReader(f)\n",
    "            items = list(reader)\n",
    "        for item in items:\n",
    "            Item(\n",
    "                name = item.get('name'),\n",
    "                price = float(item.get('price')),\n",
    "                quantity = int(item.get('quantity'))\n",
    "            )\n",
    "    @staticmethod\n",
    "    def is_integer(num):\n",
    "        # We will count out the floats that are point zero\n",
    "        if isinstance(num,float):\n",
    "            # Count out the floats that are point zero\n",
    "            return num.is_integer()\n",
    "        elif isinstance(num,int):\n",
    "            return True\n",
    "        else:\n",
    "            return False\n",
    "    def calculate_total_price(self):\n",
    "        return self.price * self.quantity\n",
    "    def apply_discount(self):\n",
    "        self.price = self.price * self.pay_rat"
   ]
  },
  {
   "cell_type": "code",
   "execution_count": 25,
   "metadata": {},
   "outputs": [],
   "source": [
    "\n",
    "class Phone(Item):\n",
    "    def __init__(self,name: str,price:float,quantity=0, \n",
    "    broken_phones=0):\n",
    "        # Call to super function to have access to all attributes/methods\n",
    "        super().__init__(\n",
    "            name,price,quantity\n",
    "        )\n",
    "        assert broken_phones >= 0, f'Broken Phones {broken_phones} are invalid i.e smaller than 0 '\n",
    "\n",
    "        # Assign to self object\n",
    "        self.broken_phones = broken_phones"
   ]
  },
  {
   "cell_type": "code",
   "execution_count": 26,
   "metadata": {},
   "outputs": [
    {
     "name": "stdout",
     "output_type": "stream",
     "text": [
      "2500\n",
      "[Phone('jscPhone'), 500 , 5, Phone('jscPhonev20'), 700 , 5]\n",
      "[Phone('jscPhone'), 500 , 5, Phone('jscPhonev20'), 700 , 5]\n"
     ]
    }
   ],
   "source": [
    "phone1 = Phone('jscPhone',500,5,1)\n",
    "print(phone1.calculate_total_price())\n",
    "phone2= Phone('jscPhonev20',700,5,1)\n",
    "print(Item.all)\n",
    "print(Phone.all)\n"
   ]
  },
  {
   "attachments": {},
   "cell_type": "markdown",
   "metadata": {},
   "source": [
    "# Encapsulation"
   ]
  },
  {
   "cell_type": "code",
   "execution_count": 1,
   "metadata": {},
   "outputs": [],
   "source": [
    "import csv \n",
    "\n",
    "class Item:\n",
    "    pay_rate = 0.8 \n",
    "    all = []\n",
    "    def __repr__(self):\n",
    "        return f\"{self.__class__.__name__}('{self.name}'), {self.price} , {self.quantity}\"\n",
    "    def __init__(self,name: str,price:float,quantity=0):\n",
    "        # Validation\n",
    "        self.__name = name\n",
    "        self.price = price\n",
    "        self.quantity = quantity\n",
    "        # Actions to execute\n",
    "        Item.all.append(self)\n",
    "    @classmethod\n",
    "    def instantiate_from_csv(cls):\n",
    "        with open('items.csv','r')as f:\n",
    "            reader = csv.DictReader(f)\n",
    "            items = list(reader)\n",
    "        for item in items:\n",
    "            Item(\n",
    "                name = item.get('name'),\n",
    "                price = float(item.get('price')),\n",
    "                quantity = int(item.get('quantity'))\n",
    "            )\n",
    "    @staticmethod\n",
    "    def is_integer(num):\n",
    "        # We will count out the floats that are point zero\n",
    "        if isinstance(num,float):\n",
    "            # Count out the floats that are point zero\n",
    "            return num.is_integer()\n",
    "        elif isinstance(num,int):\n",
    "            return True\n",
    "        else:\n",
    "            return False\n",
    "    def calculate_total_price(self):\n",
    "        return self.price * self.quantity\n",
    "    def apply_discount(self):\n",
    "        self.price = self.price * self.pay_rate\n",
    "    @property\n",
    "    def name(self):\n",
    "        return self.__name\n",
    "    @name.setter\n",
    "    def name(self,name):\n",
    "        self.__name = name\n",
    "    \n",
    "item1 = Item(\"My Item\",787)\n",
    "item1.name = \"LL\""
   ]
  },
  {
   "attachments": {},
   "cell_type": "markdown",
   "metadata": {},
   "source": [
    "## Udemy "
   ]
  },
  {
   "cell_type": "code",
   "execution_count": 12,
   "metadata": {},
   "outputs": [
    {
     "data": {
      "text/plain": [
       "__main__.Dog"
      ]
     },
     "execution_count": 12,
     "metadata": {},
     "output_type": "execute_result"
    }
   ],
   "source": [
    "class Dog():\n",
    "    def __init__(self ,breed : str,name : str,spots:bool):\n",
    "        self.breed = breed\n",
    "        self.name = name \n",
    "        self.spots = spots\n",
    "tomi = Dog('Lab',\"Kutty ka Bcha\",True)\n",
    "type(tomi)"
   ]
  },
  {
   "cell_type": "code",
   "execution_count": 13,
   "metadata": {},
   "outputs": [
    {
     "name": "stdout",
     "output_type": "stream",
     "text": [
      "The name of dog is Kutty ka Bcha. The breed of dog is Lab and it is True that Kutty ka Bcha has spots\n"
     ]
    }
   ],
   "source": [
    "print(f\"The name of dog is {tomi.name}. The breed of dog is {tomi.breed} and it is {tomi.spots} that {tomi.name} has spots\")"
   ]
  },
  {
   "cell_type": "code",
   "execution_count": 16,
   "metadata": {},
   "outputs": [
    {
     "name": "stdout",
     "output_type": "stream",
     "text": [
      "The name of dog is Kutty ka Bcha. The breed of dog is Lab\n",
      "woo woo woo\n"
     ]
    }
   ],
   "source": [
    "class Dog():\n",
    "    species = \"Mammals\"\n",
    "    def __init__(self ,breed : str,name : str):\n",
    "        self.breed = breed\n",
    "        self.name = name \n",
    "    def bark(self):\n",
    "        print(\"woo woo woo\")\n",
    "tomi = Dog('Lab',\"Kutty ka Bcha\")\n",
    "type(tomi)\n",
    "print(f\"The name of dog is {tomi.name}. The breed of dog is {tomi.breed}\")\n",
    "tomi.bark()"
   ]
  },
  {
   "cell_type": "code",
   "execution_count": 20,
   "metadata": {},
   "outputs": [
    {
     "data": {
      "text/plain": [
       "2826.0"
      ]
     },
     "execution_count": 20,
     "metadata": {},
     "output_type": "execute_result"
    }
   ],
   "source": [
    "class Circle():\n",
    "    pi = 3.14\n",
    "    def __init__(self,radius = 1):\n",
    "        self.radius = radius\n",
    "        self.area = radius*radius*self.pi\n",
    "    def get_circumference(self):\n",
    "        return self.radius * self.pi * 2\n",
    "\n",
    "my_cirle = Circle(30)\n",
    "my_cirle.get_circumference()\n",
    "my_cirle.area"
   ]
  },
  {
   "cell_type": "code",
   "execution_count": 2,
   "metadata": {},
   "outputs": [
    {
     "name": "stdout",
     "output_type": "stream",
     "text": [
      "Animal Created\n",
      "Dog Created\n",
      "I eat asses\n"
     ]
    }
   ],
   "source": [
    "class Animal:\n",
    "    def __init__(self):\n",
    "        print(\"Animal Created\")\n",
    "    def who_am_i(self):\n",
    "        print(\"I am an animal\")\n",
    "    def eat(self):\n",
    "        print(\"I am eating\")\n",
    "class Dog(Animal):\n",
    "    def __init__(self):\n",
    "        super().__init__()\n",
    "        print(\"Dog Created\")\n",
    "    def eat(self):\n",
    "        print(\"I eat asses\")\n",
    "\n",
    "# my_animal = Animal()\n",
    "# my_animal.eat()\n",
    "dog = Dog()\n",
    "dog.eat()"
   ]
  },
  {
   "cell_type": "markdown",
   "metadata": {},
   "source": [
    "## Polymorphism"
   ]
  },
  {
   "cell_type": "code",
   "execution_count": 4,
   "metadata": {},
   "outputs": [
    {
     "name": "stdout",
     "output_type": "stream",
     "text": [
      "Habshisays woof woof woof !\n",
      "A Fuck Tooysays meow meow meow !\n"
     ]
    }
   ],
   "source": [
    "class Dog():\n",
    "    def __init__(self,name):\n",
    "        self.name = name\n",
    "\n",
    "    def speak(self):\n",
    "        return self.name + \"says woof woof woof !\"\n",
    "\n",
    "class Cat():\n",
    "    def __init__(self,name):\n",
    "        self.name = name\n",
    "\n",
    "    def speak(self):\n",
    "        return self.name + \"says meow meow meow !\"\n",
    "\n",
    "habshi = Dog('Habshi')\n",
    "my_fuck_toy = Cat(\"A Fuck Tooy\")\n",
    "\n",
    "print(habshi.speak())\n",
    "print(my_fuck_toy.speak())"
   ]
  },
  {
   "cell_type": "code",
   "execution_count": 6,
   "metadata": {},
   "outputs": [
    {
     "name": "stdout",
     "output_type": "stream",
     "text": [
      "<class '__main__.Dog'>\n",
      "<class 'method'>\n",
      "<class '__main__.Cat'>\n",
      "<class 'method'>\n"
     ]
    }
   ],
   "source": [
    "for pet in [habshi,my_fuck_toy]:\n",
    "    print(type(pet))\n",
    "    print(type(pet.speak))"
   ]
  },
  {
   "cell_type": "code",
   "execution_count": null,
   "metadata": {},
   "outputs": [
    {
     "ename": "KeyboardInterrupt",
     "evalue": "",
     "output_type": "error",
     "traceback": [
      "\u001b[0;31m---------------------------------------------------------------------------\u001b[0m",
      "\u001b[0;31mKeyboardInterrupt\u001b[0m                         Traceback (most recent call last)",
      "File \u001b[0;32m/usr/lib/python3.8/codeop.py:143\u001b[0m, in \u001b[0;36mCompile.__call__\u001b[0;34m(self, source, filename, symbol)\u001b[0m\n\u001b[1;32m    142\u001b[0m \u001b[39mdef\u001b[39;00m \u001b[39m__call__\u001b[39m(\u001b[39mself\u001b[39m, source, filename, symbol):\n\u001b[0;32m--> 143\u001b[0m     codeob \u001b[39m=\u001b[39m \u001b[39mcompile\u001b[39;49m(source, filename, symbol, \u001b[39mself\u001b[39;49m\u001b[39m.\u001b[39;49mflags, \u001b[39m1\u001b[39;49m)\n\u001b[1;32m    144\u001b[0m     \u001b[39mfor\u001b[39;00m feature \u001b[39min\u001b[39;00m _features:\n\u001b[1;32m    145\u001b[0m         \u001b[39mif\u001b[39;00m codeob\u001b[39m.\u001b[39mco_flags \u001b[39m&\u001b[39m feature\u001b[39m.\u001b[39mcompiler_flag:\n",
      "\u001b[0;31mKeyboardInterrupt\u001b[0m: "
     ]
    }
   ],
   "source": [
    "def pet_speak(pet):\n",
    "    print(pet.speak())\n",
    "pet_speak(habshi)\n"
   ]
  },
  {
   "cell_type": "code",
   "execution_count": null,
   "metadata": {},
   "outputs": [],
   "source": [
    "class Animal():\n",
    "    def __init__(self,name:\n",
    "        self.name=name)\n",
    "    def speak(self):\n",
    "        raise NotImplementedError(\"Subclass must implement this abstract method\")"
   ]
  }
 ],
 "metadata": {
  "kernelspec": {
   "display_name": "Python 3",
   "language": "python",
   "name": "python3"
  },
  "language_info": {
   "codemirror_mode": {
    "name": "ipython",
    "version": 3
   },
   "file_extension": ".py",
   "mimetype": "text/x-python",
   "name": "python",
   "nbconvert_exporter": "python",
   "pygments_lexer": "ipython3",
   "version": "3.8.10"
  },
  "orig_nbformat": 4
 },
 "nbformat": 4,
 "nbformat_minor": 2
}
