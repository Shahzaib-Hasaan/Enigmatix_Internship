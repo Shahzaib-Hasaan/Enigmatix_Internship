{
 "cells": [
  {
   "cell_type": "code",
   "execution_count": 3,
   "metadata": {},
   "outputs": [
    {
     "name": "stdout",
     "output_type": "stream",
     "text": [
      "\n",
      "\n",
      "\n",
      "\n",
      "\n"
     ]
    }
   ],
   "source": [
    "names = []\n",
    "for _ in range(5):\n",
    "    names.append(input(\"Enter name: \")) \n",
    "\n",
    "for name in sorted(names):\n",
    "    print(name)"
   ]
  },
  {
   "attachments": {},
   "cell_type": "markdown",
   "metadata": {},
   "source": [
    "## Creating files"
   ]
  },
  {
   "cell_type": "code",
   "execution_count": 4,
   "metadata": {},
   "outputs": [],
   "source": [
    "name = input(\"Enter name: \")\n",
    "file = open(\"names.txt\", \"a\")\n",
    "file.write(name + \"\\n\")\n",
    "file.close()"
   ]
  },
  {
   "cell_type": "code",
   "execution_count": 5,
   "metadata": {},
   "outputs": [],
   "source": [
    "# To avoid closing the file, use with\n",
    "name = input(\"Enter name: \")\n",
    "with open(\"names.txt\", \"a\") as file:\n",
    "    file.write(f\"{name}\\n\")"
   ]
  },
  {
   "attachments": {},
   "cell_type": "markdown",
   "metadata": {},
   "source": [
    "## Opening files"
   ]
  },
  {
   "cell_type": "code",
   "execution_count": 10,
   "metadata": {},
   "outputs": [
    {
     "name": "stdout",
     "output_type": "stream",
     "text": [
      "hello  Afnan\n",
      "hello  Affi\n",
      "hello  Shahzaib\n",
      "hello  Afnan Shahzaib\n",
      "hello  AfnanShahzaib\n",
      "hello  Affi\n",
      "hello  Hhhh\n",
      "hello  \n",
      "hello  \n"
     ]
    }
   ],
   "source": [
    "with open (\"names.txt\", \"r\") as file:\n",
    "    lines = file.readlines()\n",
    "for line in lines:\n",
    "    # print(\"hello \",line , end=\"\")\n",
    "    #or\n",
    "    print(\"hello \",line.strip())\n"
   ]
  },
  {
   "cell_type": "code",
   "execution_count": 12,
   "metadata": {},
   "outputs": [
    {
     "name": "stdout",
     "output_type": "stream",
     "text": [
      "hello  Afnan\n",
      "hello  Affi\n",
      "hello  Shahzaib\n",
      "hello  Afnan Shahzaib\n",
      "hello  AfnanShahzaib\n",
      "hello  Affi\n",
      "hello  Hhhh\n",
      "hello  \n",
      "hello  \n"
     ]
    }
   ],
   "source": [
    "with open (\"names.txt\", \"r\") as file:\n",
    "    for line in lines:\n",
    "        # print(\"hello \",line , end=\"\")\n",
    "        #or\n",
    "        print(\"hello \",line.strip())\n"
   ]
  },
  {
   "cell_type": "code",
   "execution_count": 13,
   "metadata": {},
   "outputs": [
    {
     "name": "stdout",
     "output_type": "stream",
     "text": [
      "hello  \n",
      "hello  \n",
      "hello  Affi\n",
      "hello  Affi\n",
      "hello  Afnan\n",
      "hello  Afnan Shahzaib\n",
      "hello  AfnanShahzaib\n",
      "hello  Hhhh\n",
      "hello  Shahzaib\n"
     ]
    }
   ],
   "source": [
    "# Priniting the file lines in ascending order\n",
    "with open (\"names.txt\", \"r\") as file:\n",
    "    lines = file.readlines()\n",
    "for line in sorted(lines):\n",
    "    # print(\"hello \",line , end=\"\")\n",
    "    #or\n",
    "    print(\"hello \",line.strip())\n"
   ]
  },
  {
   "cell_type": "code",
   "execution_count": 15,
   "metadata": {},
   "outputs": [
    {
     "name": "stdout",
     "output_type": "stream",
     "text": [
      "\n",
      "\n",
      "Affi\n",
      "Affi\n",
      "Afnan\n",
      "Afnan Shahzaib\n",
      "AfnanShahzaib\n",
      "Hhhh\n",
      "Shahzaib\n"
     ]
    }
   ],
   "source": [
    "# Another way to print the file lines in ascending order\n",
    "names = []\n",
    "with open (\"names.txt\", \"r\") as file:\n",
    "    for line in file:\n",
    "        names.append(line.strip())\n",
    "for name in sorted(names):\n",
    "    print(name)"
   ]
  },
  {
   "cell_type": "code",
   "execution_count": 1,
   "metadata": {},
   "outputs": [
    {
     "name": "stdout",
     "output_type": "stream",
     "text": [
      "\n",
      "\n",
      "Affi\n",
      "Affi\n",
      "Afnan\n",
      "Afnan Shahzaib\n",
      "AfnanShahzaib\n",
      "Hhhh\n",
      "Shahzaib\n"
     ]
    }
   ],
   "source": [
    "# Another way to print the file lines in ascending order\n",
    "with open (\"names.txt\", \"r\") as file:\n",
    "    for i in sorted(file):\n",
    "        print(i.strip())"
   ]
  },
  {
   "cell_type": "code",
   "execution_count": 4,
   "metadata": {},
   "outputs": [
    {
     "name": "stdout",
     "output_type": "stream",
     "text": [
      "Hello Affi\n",
      "Hello Affi\n",
      "Hello Afnan\n",
      "Hello Afnan Shahzaib\n",
      "Hello AfnanShahzaib\n",
      "Hello Hhhh\n",
      "Hello Shahzaib\n"
     ]
    }
   ],
   "source": [
    "name = []\n",
    "with open(\"names.txt\") as file:\n",
    "    for line in file:\n",
    "        name.append(line.rstrip())"
   ]
  }
 ],
 "metadata": {
  "kernelspec": {
   "display_name": "Python 3",
   "language": "python",
   "name": "python3"
  },
  "language_info": {
   "codemirror_mode": {
    "name": "ipython",
    "version": 3
   },
   "file_extension": ".py",
   "mimetype": "text/x-python",
   "name": "python",
   "nbconvert_exporter": "python",
   "pygments_lexer": "ipython3",
   "version": "3.8.10"
  },
  "orig_nbformat": 4
 },
 "nbformat": 4,
 "nbformat_minor": 2
}
