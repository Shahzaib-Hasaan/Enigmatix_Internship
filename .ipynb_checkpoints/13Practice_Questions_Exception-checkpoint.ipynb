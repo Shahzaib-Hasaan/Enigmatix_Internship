{
 "cells": [
  {
   "cell_type": "code",
   "execution_count": null,
   "id": "1241d195",
   "metadata": {},
   "outputs": [],
   "source": [
    "# Write a program that prompts the user to enter two numbers and divides them. Handle the ZeroDivisionError exception if the second number is zero.\n",
    "num1 = int(input(\"Enter a number: \"))"
   ]
  }
 ],
 "metadata": {
  "kernelspec": {
   "display_name": "Python 3 (ipykernel)",
   "language": "python",
   "name": "python3"
  },
  "language_info": {
   "codemirror_mode": {
    "name": "ipython",
    "version": 3
   },
   "file_extension": ".py",
   "mimetype": "text/x-python",
   "name": "python",
   "nbconvert_exporter": "python",
   "pygments_lexer": "ipython3",
   "version": "3.8.10"
  }
 },
 "nbformat": 4,
 "nbformat_minor": 5
}
