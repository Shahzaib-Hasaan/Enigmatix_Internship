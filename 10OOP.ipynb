{
 "cells": [
  {
   "cell_type": "code",
   "execution_count": 4,
   "metadata": {},
   "outputs": [
    {
     "name": "stdout",
     "output_type": "stream",
     "text": [
      "Hello, shah from Afnann!\n"
     ]
    }
   ],
   "source": [
    "def get_name():\n",
    "    return input(\"Enter your name: \")\n",
    "def get_house():\n",
    "    return input(\"Enter your house: \")\n",
    "def main():\n",
    "    name = get_name()\n",
    "    house = get_house()\n",
    "    print(f\"Hello, {name} from {house}!\")\n",
    "if __name__ == \"__main__\":\n",
    "    main()"
   ]
  },
  {
   "cell_type": "code",
   "execution_count": 6,
   "metadata": {},
   "outputs": [
    {
     "name": "stdout",
     "output_type": "stream",
     "text": [
      "Hello, Shahzaib from Afnan!\n"
     ]
    }
   ],
   "source": [
    "# improvement\n",
    "def get_student():\n",
    "    name = input(\"Enter your name: \")\n",
    "    house = input(\"Enter your house: \")\n",
    "    return name, house\n",
    "def main():\n",
    "    name, house = get_student() # tuple unpacking \n",
    "    print(f\"Hello, {name} from {house}!\")\n",
    "if __name__ == \"__main__\":\n",
    "    main()"
   ]
  },
  {
   "cell_type": "code",
   "execution_count": 7,
   "metadata": {},
   "outputs": [
    {
     "name": "stdout",
     "output_type": "stream",
     "text": [
      "Hello, Shah from zaib!\n"
     ]
    }
   ],
   "source": [
    "# improvement\n",
    "def get_student():\n",
    "    name = input(\"Enter your name: \")\n",
    "    house = input(\"Enter your house: \")\n",
    "    return name, house # It is a tuple (name, house)\n",
    "# We'll return list when we have more than one type of data or we want to change the data later\n",
    "def main():\n",
    "    student = get_student()\n",
    "    print(f\"Hello, {student[0]} from {student[1]}!\")\n",
    "if __name__ == \"__main__\":\n",
    "    main()"
   ]
  },
  {
   "cell_type": "code",
   "execution_count": 9,
   "metadata": {},
   "outputs": [
    {
     "name": "stdout",
     "output_type": "stream",
     "text": [
      "Hello, shah from zaib!\n"
     ]
    }
   ],
   "source": [
    "# improvement\n",
    "def get_student():\n",
    "    student = {}\n",
    "    student[\"name\"] = input(\"Enter your name: \")\n",
    "    student[\"house\"] = input(\"Enter your house: \")\n",
    "    return student # It is a dictionary\n",
    "def main():\n",
    "    student = get_student()\n",
    "    print(f\"Hello, {student['name']} from {student['house']}!\")\n",
    "if __name__ == \"__main__\":\n",
    "    main()"
   ]
  },
  {
   "cell_type": "code",
   "execution_count": null,
   "metadata": {},
   "outputs": [],
   "source": [
    "# improvement\n",
    "def get_student():\n",
    "    name = input(\"Enter your name: \")\n",
    "    house = input(\"Enter your house: \")\n",
    "    return {\"name\": name, \"house\": house} # It is a dictionary\n",
    "def main():\n",
    "    student = get_student()\n",
    "    print(f\"Hello, {student['name']} from {student['house']}!\")\n",
    "if __name__ == \"__main__\":\n",
    "    main()"
   ]
  },
  {
   "cell_type": "code",
   "execution_count": 14,
   "metadata": {},
   "outputs": [
    {
     "name": "stdout",
     "output_type": "stream",
     "text": [
      "Shahzaib from Pakistan\n"
     ]
    }
   ],
   "source": [
    "class Student:\n",
    "    ...\n",
    "\n",
    "def get_student():\n",
    "    student = Student()\n",
    "    student.name = 'Shahzaib'\n",
    "    student.house = 'Pakistan'\n",
    "    return student\n",
    "def main():\n",
    "    student = get_student()\n",
    "    print(f'{student.name} from {student.house}')\n",
    "main()"
   ]
  },
  {
   "cell_type": "code",
   "execution_count": 5,
   "metadata": {},
   "outputs": [
    {
     "name": "stdout",
     "output_type": "stream",
     "text": [
      "hi from hi\n"
     ]
    }
   ],
   "source": [
    "# import sys\n",
    "class Student:\n",
    "    def __init__(self,name,house):\n",
    "        if not name:\n",
    "            raise ValueError(\"Missing Name\")\n",
    "        if not house:\n",
    "            raise ValueError(\"Invalid House\")\n",
    "        self.name = name\n",
    "        self.house = house\n",
    "    def __str__(self):\n",
    "         return f'{self.name} from {self.house}'\n",
    "    \n",
    "def get_student():\n",
    "        name = input(\"Name: \")\n",
    "        house = input(\"House: \")\n",
    "        return Student(name,house)\n",
    "\n",
    "def main():\n",
    "        student = get_student()\n",
    "        print(student)\n",
    "        # print(f'{student.name} from {student.house}')\n",
    "main()"
   ]
  },
  {
   "cell_type": "code",
   "execution_count": 5,
   "metadata": {},
   "outputs": [
    {
     "name": "stdout",
     "output_type": "stream",
     "text": [
      "Expecto practronum!\n",
      "The patronus is unknown.\n"
     ]
    }
   ],
   "source": [
    "class Student:\n",
    "    def __init__(self,name,house,patronous):\n",
    "        if not name:\n",
    "            raise ValueError(\"Missing Name\")\n",
    "        if not house:\n",
    "            raise ValueError(\"Invalid House\")\n",
    "        self.name = name\n",
    "        self.house = house\n",
    "        self.patronous = patronous\n",
    "    def __str__(self):\n",
    "         return f'{self.name} from {self.house}'\n",
    "    \n",
    "    def charm(self):\n",
    "        if self.patronous == \"stag\":\n",
    "            print(\"The patronus is a stag.\")\n",
    "        elif self.patronous == \"otter\":\n",
    "            print(\"The patronus is an otter.\")\n",
    "        else:\n",
    "            print(\"The patronus is unknown.\")\n",
    "\n",
    "def get_student():\n",
    "        name = input(\"Name: \")\n",
    "        house = input(\"House: \")\n",
    "        patronous = input(\"Patronous: \")\n",
    "        return Student(name,house,patronous)\n",
    "\n",
    "def main():\n",
    "        student = get_student()\n",
    "        # print(student)\n",
    "        # print(f'{student.name} from {student.house}')\n",
    "        print(\"Expecto practronum!\")\n",
    "        student.charm()\n",
    "main() "
   ]
  },
  {
   "cell_type": "code",
   "execution_count": 9,
   "metadata": {},
   "outputs": [
    {
     "name": "stdout",
     "output_type": "stream",
     "text": [
      "h from j\n"
     ]
    }
   ],
   "source": [
    "class Student:\n",
    "    def __init__(self,name,house):\n",
    "        if not name:\n",
    "            raise ValueError(\"Missing Name\")\n",
    "        if not house:\n",
    "            raise ValueError(\"Invalid House\")\n",
    "        self.name = name\n",
    "        self.house = house\n",
    "    def __str__(self):\n",
    "         return f'{self.name} from {self.house}'\n",
    "\n",
    "def get_student():\n",
    "        name = input(\"Name: \")\n",
    "        house = input(\"House: \")\n",
    "        # patronous = input(\"Patronous: \")\n",
    "        return Student(name,house)\n",
    "\n",
    "def main():\n",
    "        student = get_student()\n",
    "        # print(student)\n",
    "        print(f'{student.name} from {student.house}')\n",
    "main() "
   ]
  },
  {
   "cell_type": "code",
   "execution_count": 2,
   "metadata": {},
   "outputs": [
    {
     "name": "stdout",
     "output_type": "stream",
     "text": [
      "shah from zaib\n"
     ]
    }
   ],
   "source": [
    "class Student:\n",
    "    def __init__(self,name,house):\n",
    "        if not name:\n",
    "            raise ValueError(\"Missing Name\")\n",
    "        if not house:\n",
    "            raise ValueError(\"Invalid House\")\n",
    "        self.name = name\n",
    "        self.house = house\n",
    "    def __str__(self):\n",
    "         return f'{self.name} from {self.house}'\n",
    "\n",
    "def get_student():\n",
    "        name = input(\"Name: \")\n",
    "        house = input(\"House: \")\n",
    "        # patronous = input(\"Patronous: \")\n",
    "        return Student(name,house)\n",
    "#Getter\n",
    "@property\n",
    "def house(self):\n",
    "    return self._house\n",
    "#Setter\n",
    "@house.setter\n",
    "def house(self,house):\n",
    "    self._house = house\n",
    "@property \n",
    "def name(self):\n",
    "    return self._name\n",
    "@name.setter\n",
    "def name(self,name):\n",
    "    self._name = name\n",
    "def main():\n",
    "        student = get_student()\n",
    "        print(student)\n",
    "        # print(f'{student.name} from {student.house}')\n",
    "main() "
   ]
  },
  {
   "attachments": {},
   "cell_type": "markdown",
   "metadata": {},
   "source": [
    "## Class Methods"
   ]
  },
  {
   "cell_type": "code",
   "execution_count": 82,
   "metadata": {},
   "outputs": [
    {
     "name": "stdout",
     "output_type": "stream",
     "text": [
      "Shahzaib is in New York\n"
     ]
    }
   ],
   "source": [
    "import random\n",
    "class Hat:\n",
    "    houses = [\"New York\",\"Ahmadpur East\",\"Bahawalpur\"]\n",
    "    @classmethod\n",
    "    def sort(cls,name):\n",
    "        house = random.choice(cls.houses)\n",
    "        print(name,f\"is in\", f\"{house}\")\n",
    "\n",
    "Hat.sort(\"Shahzaib\")"
   ]
  },
  {
   "cell_type": "code",
   "execution_count": 84,
   "metadata": {},
   "outputs": [
    {
     "name": "stdout",
     "output_type": "stream",
     "text": [
      "Shah from Zaib\n"
     ]
    }
   ],
   "source": [
    "class Student:\n",
    "    def __init__(self,name,house):\n",
    "        self.name = name\n",
    "        self.house = house\n",
    "\n",
    "    def __str__(self):\n",
    "        return f'{self.name} from {self.house}'\n",
    "    \n",
    "    @classmethod\n",
    "    def get(cls):\n",
    "        name = input(\"Name: \")\n",
    "        house = input(\"House: \")\n",
    "        return cls(name,house)\n",
    "    \n",
    "def main():\n",
    "    student = Student.get()\n",
    "    print(student)\n",
    "\n",
    "if __name__ == \"__main__\":\n",
    "    main()"
   ]
  },
  {
   "cell_type": "code",
   "execution_count": 86,
   "metadata": {},
   "outputs": [],
   "source": [
    "class Wizard:\n",
    "    def __init__(self,name):\n",
    "        if not name:\n",
    "            raise ValueError(\"Missing Name\")\n",
    "        self.name = name\n",
    "\n",
    "class Student(Wizard):\n",
    "    def __init__(self,name,house):\n",
    "        super().__init__(name)\n",
    "        self.house = house\n",
    "    ...\n",
    "\n",
    "class Professor(Wizard):\n",
    "    def __init__ (self,name,subject):\n",
    "        super().__init__(name)\n",
    "        self.subject = subject\n",
    "    ...\n",
    "wizard = Wizard(\"Albus\")\n",
    "student = Student(\"Shahzaib\",\"Ahmadpur\")\n",
    "professor = Professor(\"Shahzaib\",\"Flirtologyu\")\n"
   ]
  },
  {
   "attachments": {},
   "cell_type": "markdown",
   "metadata": {},
   "source": [
    "## Operator Overloading"
   ]
  },
  {
   "cell_type": "code",
   "execution_count": 1,
   "metadata": {},
   "outputs": [
    {
     "name": "stdout",
     "output_type": "stream",
     "text": [
      "100 Galleons ,50 Sickles , 25 Knuts\n",
      "25 Galleons ,50 Sickles , 100 Knuts\n",
      "125 Galleons ,100 Sickles , 125 Knuts\n"
     ]
    }
   ],
   "source": [
    "class Vault:\n",
    "    def __init__(self,galleons = 0,sickles = 0 ,knuts = 0):\n",
    "        self.galleons = galleons\n",
    "        self.knuts = knuts\n",
    "        self.sickles = sickles\n",
    "    def __str__(self):\n",
    "        return f\"{self.galleons} Galleons ,{self.sickles} Sickles , {self.knuts} Knuts\"\n",
    "    def __add__(self,other):\n",
    "        galleons = self.galleons+other.galleons\n",
    "        sickles = self.sickles + other.sickles\n",
    "        knuts = self.knuts + other.knuts\n",
    "        return Vault(galleons,sickles,knuts)\n",
    "potter = Vault(100,50,25)\n",
    "print(potter)\n",
    "weasly = Vault(25,50,100)\n",
    "print(weasly)\n",
    "\n",
    "# galleons = potter.galleons + weasly.galleons\n",
    "# sickles = potter.sickles + weasly.sickles\n",
    "# knuts = potter.sickles + weasly.knuts\n",
    "total = potter+weasly\n",
    "# total = Vault(galleons,sickles,knuts)\n",
    "print(total)"
   ]
  },
  {
   "attachments": {},
   "cell_type": "markdown",
   "metadata": {},
   "source": [
    "## Challenge"
   ]
  },
  {
   "cell_type": "code",
   "execution_count": 17,
   "metadata": {},
   "outputs": [
    {
     "name": "stdout",
     "output_type": "stream",
     "text": [
      "Account owner: Jose\n",
      "Account balance :100\n"
     ]
    },
    {
     "data": {
      "text/plain": [
       "100"
      ]
     },
     "execution_count": 17,
     "metadata": {},
     "output_type": "execute_result"
    }
   ],
   "source": [
    "class Account:\n",
    "    def __init__(self,owner,balance):\n",
    "        assert owner != '' ,f'{owner} is not a string'\n",
    "        self.owner = owner\n",
    "        assert balance > 0 ,f'{balance} is zero'\n",
    "        self.balance = balance\n",
    "    def __str__(self):\n",
    "        return (f\"Account owner: {self.owner}\\nAccount balance :{self.balance}\")\n",
    "    def deposit(self,amount):\n",
    "        self.balance=self.balance+amount\n",
    "        print(\"Deposit Accepted\")\n",
    "    def withdraw(self,amount):\n",
    "        self.balance-=amount\n",
    "        print(\"Withdraw Accepted\")\n",
    "# Instantiating Class\n",
    "actt1 = Account(\"Jose\",100)\n",
    "print(actt1)\n",
    "\n",
    "actt1.owner\n",
    "actt1.balance\n"
   ]
  },
  {
   "cell_type": "code",
   "execution_count": 20,
   "metadata": {},
   "outputs": [
    {
     "name": "stdout",
     "output_type": "stream",
     "text": [
      "Deposit Accepted\n"
     ]
    }
   ],
   "source": [
    "actt1.deposit(500)"
   ]
  },
  {
   "cell_type": "code",
   "execution_count": 21,
   "metadata": {},
   "outputs": [
    {
     "data": {
      "text/plain": [
       "1100"
      ]
     },
     "execution_count": 21,
     "metadata": {},
     "output_type": "execute_result"
    }
   ],
   "source": [
    "actt1.balance"
   ]
  },
  {
   "cell_type": "code",
   "execution_count": 22,
   "metadata": {},
   "outputs": [
    {
     "ename": "NameError",
     "evalue": "name 'act' is not defined",
     "output_type": "error",
     "traceback": [
      "\u001b[0;31m---------------------------------------------------------------------------\u001b[0m",
      "\u001b[0;31mNameError\u001b[0m                                 Traceback (most recent call last)",
      "Cell \u001b[0;32mIn[22], line 1\u001b[0m\n\u001b[0;32m----> 1\u001b[0m act\n",
      "\u001b[0;31mNameError\u001b[0m: name 'act' is not defined"
     ]
    }
   ],
   "source": [
    "act"
   ]
  },
  {
   "attachments": {},
   "cell_type": "markdown",
   "metadata": {},
   "source": [
    "## Practice Questions"
   ]
  },
  {
   "attachments": {},
   "cell_type": "markdown",
   "metadata": {},
   "source": [
    "### Basic classes and objects"
   ]
  },
  {
   "cell_type": "code",
   "execution_count": 30,
   "metadata": {},
   "outputs": [
    {
     "name": "stdout",
     "output_type": "stream",
     "text": [
      "The make of car is Toyota \n",
      "The year of the car is 1901 \n",
      "The model of car is GLI\n"
     ]
    }
   ],
   "source": [
    "# Create a class called \"Car\" with attributes like \"make\", \"model\", and \"year\". Define a method inside the class to display the car's information.\n",
    "class Car:\n",
    "    def __init__(self,make,year,model):\n",
    "        self.make = make\n",
    "        self.year = year\n",
    "        self.model = model\n",
    "    def print_info(self):\n",
    "        print(f\"The make of car is {self.make} \\nThe year of the car is {self.year} \\nThe model of car is {self.model}\")\n",
    "\n",
    "corolla = Car(\"Toyota\" , 1901 ,'GLI')\n",
    "corolla.print_info()"
   ]
  },
  {
   "cell_type": "code",
   "execution_count": 31,
   "metadata": {},
   "outputs": [
    {
     "name": "stdout",
     "output_type": "stream",
     "text": [
      "The make of car is Toyota \n",
      "The year of the car is 1901 \n",
      "The model of car is GLI\n",
      "The make of car is Honda \n",
      "The year of the car is 1705 \n",
      "The model of car is City\n"
     ]
    }
   ],
   "source": [
    "# Create two objects of the Car class and display their information.\n",
    "corolla = Car(\"Toyota\" , 1901 ,'GLI')\n",
    "corolla.print_info()\n",
    "city = Car('Honda',1705,'City')\n",
    "city.print_info()\n"
   ]
  },
  {
   "cell_type": "code",
   "execution_count": null,
   "metadata": {},
   "outputs": [],
   "source": []
  },
  {
   "cell_type": "code",
   "execution_count": 32,
   "metadata": {},
   "outputs": [],
   "source": [
    "# Create a parent class called \"Animal\" with a method called \"sound\" that prints the sound of the animal.\n",
    "class Animal:\n",
    "    def __init__(self, sound):\n",
    "        self.sound = sound\n",
    "\n",
    "    def which_sound(self):\n",
    "        print(f\"The animal makes {self.sound} sound\")\n",
    "        "
   ]
  },
  {
   "cell_type": "code",
   "execution_count": 33,
   "metadata": {},
   "outputs": [],
   "source": [
    "# Create a child class called \"Dog\" that inherits from the Animal class. Add an additional method called \"breed\" that prints the breed of the dog.\n",
    "class Dog(Animal):\n",
    "    def __init__(self, sound, breed):\n",
    "        super().__init__(sound)\n",
    "        self.breed = breed\n",
    "\n",
    "    def breed_info(self):\n",
    "        print(f\"The breed of Dog is {self.breed}\")\n",
    "\n"
   ]
  },
  {
   "cell_type": "code",
   "execution_count": 36,
   "metadata": {},
   "outputs": [
    {
     "name": "stdout",
     "output_type": "stream",
     "text": [
      "The animal makes Fuck me sound\n",
      "The breed of Dog is Gashti Nasal\n"
     ]
    }
   ],
   "source": [
    "# Create an object of the Dog class and call both the \"sound\" and \"breed\" methods.\n",
    "dog = Dog(breed=\"Gashti Nasal\",sound=\"Fuck me\")\n",
    "dog.which_sound()\n",
    "dog.breed_info()"
   ]
  },
  {
   "cell_type": "code",
   "execution_count": null,
   "metadata": {},
   "outputs": [],
   "source": []
  }
 ],
 "metadata": {
  "kernelspec": {
   "display_name": "Python 3",
   "language": "python",
   "name": "python3"
  },
  "language_info": {
   "codemirror_mode": {
    "name": "ipython",
    "version": 3
   },
   "file_extension": ".py",
   "mimetype": "text/x-python",
   "name": "python",
   "nbconvert_exporter": "python",
   "pygments_lexer": "ipython3",
   "version": "3.8.10"
  },
  "orig_nbformat": 4
 },
 "nbformat": 4,
 "nbformat_minor": 2
}
