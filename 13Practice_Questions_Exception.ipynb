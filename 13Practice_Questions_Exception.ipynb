{
 "cells": [
  {
   "cell_type": "code",
   "execution_count": 5,
   "id": "98bdeb70",
   "metadata": {},
   "outputs": [
    {
     "name": "stdout",
     "output_type": "stream",
     "text": [
      "Enter a number: 12\n",
      "Enter 2nd Number: 0\n",
      "Can not divide a number by 0\n"
     ]
    }
   ],
   "source": [
    "# Write a program that prompts the user to enter two numbers and divides them. Handle the ZeroDivisionError exception if the second number is zero.\n",
    "try:\n",
    "    num1 = int(input(\"Enter a number: \"))\n",
    "    num2 = int(input(\"Enter 2nd Number: \"))\n",
    "    result = num1/num2\n",
    "except ZeroDivisionError:\n",
    "    print(\"Can not divide a number by 0\")\n",
    "else:\n",
    "    print(f\"{num1} / {num2} = {result}\")"
   ]
  },
  {
   "cell_type": "code",
   "execution_count": 9,
   "id": "7ac096d1",
   "metadata": {},
   "outputs": [
    {
     "name": "stdout",
     "output_type": "stream",
     "text": [
      "name,price,quantity\n",
      "\n",
      "\"Phone\",100,1\n",
      "\n",
      "\"Laptop\",1000,3\n",
      "\n",
      "\"Cable\",19,10\n",
      "\n",
      "\"Mouse\",100,4\n",
      "\n",
      "\"Keyboard\",130,7\n"
     ]
    }
   ],
   "source": [
    "# Write a program that reads a file specified by the user. Handle the FileNotFoundError exception if the file does not exist.\n",
    "try:\n",
    "    file = open('items.csv')    \n",
    "except FileNotFoundError:\n",
    "    print(\"Sorry ,the specified file not found at given location/directory\")\n",
    "else:\n",
    "    for line in file:\n",
    "        print(line)"
   ]
  },
  {
   "cell_type": "markdown",
   "id": "7eb07afc",
   "metadata": {},
   "source": [
    "Write a program that prompts the user to enter a number and performs a mathematical operation based on the number entered. Handle both the ValueError and ZeroDivisionError exceptions."
   ]
  },
  {
   "cell_type": "code",
   "execution_count": 2,
   "id": "1e126aaa",
   "metadata": {},
   "outputs": [
    {
     "name": "stdout",
     "output_type": "stream",
     "text": [
      "Enter a num: 0\n",
      "Cannot divide 10 by 0\n"
     ]
    }
   ],
   "source": [
    "a = 10\n",
    "try:\n",
    "    b = int(input(\"Enter a num: \"))\n",
    "    result = a/b\n",
    "except ValueError:\n",
    "    print(\"The given number is not an integer\")\n",
    "except ZeroDivisionError:\n",
    "    print(f\"Cannot divide {a} by 0\")\n",
    "else:\n",
    "    print(result)"
   ]
  },
  {
   "cell_type": "markdown",
   "id": "f0797e45",
   "metadata": {},
   "source": [
    "Write a program that reads a list of integers from the user and calculates their average. Handle both the ValueError and ZeroDivisionError exceptions."
   ]
  },
  {
   "cell_type": "code",
   "execution_count": 7,
   "id": "5839c25f",
   "metadata": {},
   "outputs": [
    {
     "name": "stdout",
     "output_type": "stream",
     "text": [
      "Enter a list of integers (space-separated): \n",
      "Cannot calculate average of an empty list.\n"
     ]
    }
   ],
   "source": [
    "try:\n",
    "    str_list = input(\"Enter a list of integers (space-separated): \").split()\n",
    "    num_list = [int(num) for num in str_list]\n",
    "    total = sum(num_list)\n",
    "    average = total / len(num_list)\n",
    "    print(str_list)\n",
    "    print(num_list)\n",
    "except ValueError:\n",
    "    print(\"Invalid input. Please enter integers only.\")\n",
    "except ZeroDivisionError:\n",
    "    print(\"Cannot calculate average of an empty list.\")\n",
    "else:\n",
    "    print(\"The average is:\", average)"
   ]
  },
  {
   "cell_type": "markdown",
   "id": "480440cd",
   "metadata": {},
   "source": [
    "Define a custom exception called NegativeNumberError. Write a program that prompts the user to enter a positive number and raises the NegativeNumberError exception if a negative number is entered."
   ]
  },
  {
   "cell_type": "markdown",
   "id": "41785761",
   "metadata": {},
   "source": [
    "Jun 21"
   ]
  },
  {
   "cell_type": "code",
   "execution_count": 22,
   "id": "8f7ad684",
   "metadata": {},
   "outputs": [
    {
     "data": {
      "text/plain": [
       "'\\nlist1 = [1,2,3,4,5,6,7,8,9,10]\\ntry:\\n    print(list1[12])\\nexcept IndexError:\\n    print(\\'The index u entered does not exist\\')\\n\\n# Write a program that divides two numbers. Handle the ZeroDivisionError exception.\\nnum1 = int(input(\"Enter a number\"))\\nnum2 = int(input(\"Enter another number\"))\\ntry:\\n    ans = num1/num2\\nexcept ZeroDivisionError:\\n    print(\"Can not divide by Zero\")\\n# Write a program that reads a file and prints its contents. Handle the FileNotFoundError exception.\\ntry:\\n    file = open(\\'namesstxt\\')\\nexcept FileNotFoundError:\\n    print(\"The File u entered not found\")\\nelse:\\n    for line in file:\\n        print(line)\\n'"
      ]
     },
     "execution_count": 22,
     "metadata": {},
     "output_type": "execute_result"
    }
   ],
   "source": [
    "# Write a program that handles the IndexError exception when accessing an out-of-bounds index of a list.\n",
    "\"\"\"\n",
    "list1 = [1,2,3,4,5,6,7,8,9,10]\n",
    "try:\n",
    "    print(list1[12])\n",
    "except IndexError:\n",
    "    print('The index u entered does not exist')\n",
    "\n",
    "# Write a program that divides two numbers. Handle the ZeroDivisionError exception.\n",
    "num1 = int(input(\"Enter a number\"))\n",
    "num2 = int(input(\"Enter another number\"))\n",
    "try:\n",
    "    ans = num1/num2\n",
    "except ZeroDivisionError:\n",
    "    print(\"Can not divide by Zero\")\n",
    "# Write a program that reads a file and prints its contents. Handle the FileNotFoundError exception.\n",
    "try:\n",
    "    file = open('namesstxt')\n",
    "except FileNotFoundError:\n",
    "    print(\"The File u entered not found\")\n",
    "else:\n",
    "    for line in file:\n",
    "        print(line)\n",
    "# Write a program that prompts the user to enter their age and prints it. Handle the TypeError exception.\n",
    "\n",
    "try:\n",
    "    age = int(input(\"Enter your age: \"))\n",
    "except ValueError:\n",
    "    print(\"The value you entered is not a valid integer.\")\n",
    "else:\n",
    "    print(age)\n",
    "\"\"\"\n"
   ]
  },
  {
   "cell_type": "code",
   "execution_count": null,
   "id": "5c655143",
   "metadata": {},
   "outputs": [],
   "source": [
    "# Write a program that calculates the square root of a number. Handle the ValueError exception.\n"
   ]
  },
  {
   "cell_type": "code",
   "execution_count": null,
   "id": "ef99b4c4",
   "metadata": {},
   "outputs": [],
   "source": []
  }
 ],
 "metadata": {
  "kernelspec": {
   "display_name": "Python 3 (ipykernel)",
   "language": "python",
   "name": "python3"
  },
  "language_info": {
   "codemirror_mode": {
    "name": "ipython",
    "version": 3
   },
   "file_extension": ".py",
   "mimetype": "text/x-python",
   "name": "python",
   "nbconvert_exporter": "python",
   "pygments_lexer": "ipython3",
   "version": "3.8.10"
  }
 },
 "nbformat": 4,
 "nbformat_minor": 5
}
