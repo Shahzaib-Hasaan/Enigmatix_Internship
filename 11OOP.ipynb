{
 "cells": [
  {
   "cell_type": "code",
   "execution_count": null,
   "metadata": {},
   "outputs": [],
   "source": [
    "class ATM:\n",
    "    def __init__(self):\n",
    "        print(\"Hello\")\n",
    "    def menu(self):\n",
    "        user_input = input(\"\"\"\n",
    "                Hello,How would u like to proceed?\n",
    "                1. Create a pin\n",
    "                2.Deposit\n",
    "                3. \n",
    "        \"\"\")\n",
    "\n",
    "a = ATM()"
   ]
  }
 ],
 "metadata": {
  "language_info": {
   "name": "python"
  },
  "orig_nbformat": 4
 },
 "nbformat": 4,
 "nbformat_minor": 2
}
